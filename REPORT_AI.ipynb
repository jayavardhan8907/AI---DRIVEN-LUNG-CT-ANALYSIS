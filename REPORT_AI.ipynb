{
 "cells": [
  {
   "cell_type": "markdown",
   "id": "cda8e0a3",
   "metadata": {},
   "source": [
    "# CNN"
   ]
  },
  {
   "cell_type": "code",
   "execution_count": 15,
   "id": "90f657ab",
   "metadata": {},
   "outputs": [
    {
     "name": "stderr",
     "output_type": "stream",
     "text": [
      "C:\\Users\\vardh\\AppData\\Local\\Temp\\ipykernel_39048\\1836096015.py:45: GradioDeprecationWarning: Usage of gradio.inputs is deprecated, and will not be supported in the future, please import your component from gradio.components\n",
      "  image_input = gr.inputs.Image(type=\"pil\", label=\"Upload a lung image\")\n",
      "C:\\Users\\vardh\\AppData\\Local\\Temp\\ipykernel_39048\\1836096015.py:45: GradioDeprecationWarning: `optional` parameter is deprecated, and it has no effect\n",
      "  image_input = gr.inputs.Image(type=\"pil\", label=\"Upload a lung image\")\n",
      "C:\\Users\\vardh\\AppData\\Local\\Temp\\ipykernel_39048\\1836096015.py:46: GradioDeprecationWarning: Usage of gradio.outputs is deprecated, and will not be supported in the future, please import your components from gradio.components\n",
      "  label_output = gr.outputs.Label(label=\"Prediction\")\n",
      "C:\\Users\\vardh\\AppData\\Local\\Temp\\ipykernel_39048\\1836096015.py:46: GradioUnusedKwargWarning: You have unused kwarg parameters in Label, please remove them: {'type': 'auto'}\n",
      "  label_output = gr.outputs.Label(label=\"Prediction\")\n"
     ]
    },
    {
     "name": "stdout",
     "output_type": "stream",
     "text": [
      "Running on local URL:  http://127.0.0.1:7860\n",
      "\n",
      "To create a public link, set `share=True` in `launch()`.\n"
     ]
    },
    {
     "data": {
      "text/html": [
       "<div><iframe src=\"http://127.0.0.1:7860/\" width=\"100%\" height=\"500\" allow=\"autoplay; camera; microphone; clipboard-read; clipboard-write;\" frameborder=\"0\" allowfullscreen></iframe></div>"
      ],
      "text/plain": [
       "<IPython.core.display.HTML object>"
      ]
     },
     "metadata": {},
     "output_type": "display_data"
    },
    {
     "name": "stdout",
     "output_type": "stream",
     "text": [
      "Keyboard interruption in main thread... closing server.\n"
     ]
    },
    {
     "data": {
      "text/plain": []
     },
     "execution_count": 15,
     "metadata": {},
     "output_type": "execute_result"
    }
   ],
   "source": [
    "#CNN\n",
    "# gradio final working code \n",
    "import numpy as np\n",
    "import matplotlib.pyplot as plt\n",
    "import cv2\n",
    "import gradio as gr\n",
    "import tensorflow as tf\n",
    "from tensorflow.keras.models import load_model\n",
    "from tensorflow.keras.applications.vgg16 import preprocess_input\n",
    "\n",
    "# Define your custom F1 metric function\n",
    "def F1(y_true, y_pred):\n",
    "    true_positives = tf.keras.backend.sum(tf.keras.backend.round(tf.keras.backend.clip(y_true * y_pred, 0, 1)))\n",
    "    possible_positives = tf.keras.backend.sum(tf.keras.backend.round(tf.keras.backend.clip(y_true, 0, 1)))\n",
    "    predicted_positives = tf.keras.backend.sum(tf.keras.backend.round(tf.keras.backend.clip(y_pred, 0, 1)))\n",
    "    precision = true_positives / (predicted_positives + tf.keras.backend.epsilon())\n",
    "    recall = true_positives / (possible_positives + tf.keras.backend.epsilon())\n",
    "    f1_val = 2 * (precision * recall) / (precision + recall + tf.keras.backend.epsilon())\n",
    "    return f1_val\n",
    "\n",
    "# Load your lung cancer prediction model along with custom metrics\n",
    "Lung_CNN = load_model(\"Lung_CNN1.h5\", custom_objects={'F1': F1})\n",
    "\n",
    "def predict_lung_cancer(image):\n",
    "    # Convert Gradio Image to a numpy array\n",
    "    image = np.array(image)\n",
    "\n",
    "    # Resize the image to match the input size expected by your model\n",
    "    image = cv2.resize(image, (224, 224))\n",
    "\n",
    "    # Preprocess the image for VGG16\n",
    "    image = preprocess_input(image)\n",
    "\n",
    "    # Make a prediction\n",
    "    vgg16Pred = Lung_CNN.predict(image[None, ...])[0]\n",
    "\n",
    "    prediction_label = \"Cancerous\" if vgg16Pred < 0.4 else \"Non-cancerous\"\n",
    "\n",
    "    # Print the prediction value\n",
    "    print(\"Prediction Value:\", vgg16Pred)\n",
    "\n",
    "    return prediction_label\n",
    "\n",
    "# Create the Gradio interface for image upload\n",
    "image_input = gr.inputs.Image(type=\"pil\", label=\"Upload a lung image\")\n",
    "label_output = gr.outputs.Label(label=\"Prediction\")\n",
    "\n",
    "# Create the Gradio app\n",
    "app = gr.Interface(\n",
    "    fn=predict_lung_cancer,\n",
    "    inputs=image_input,\n",
    "    outputs=label_output,\n",
    "    live=True  # Set to True to launch a live server\n",
    ")\n",
    "\n",
    "# Run the Gradio app\n",
    "app.launch(debug=True)\n"
   ]
  },
  {
   "cell_type": "code",
   "execution_count": 16,
   "id": "2f869502",
   "metadata": {},
   "outputs": [],
   "source": [
    "import pprint\n",
    "import google.generativeai as palm"
   ]
  },
  {
   "cell_type": "code",
   "execution_count": 17,
   "id": "1bf932e1",
   "metadata": {},
   "outputs": [
    {
     "name": "stdout",
     "output_type": "stream",
     "text": [
      "models/text-bison-001\n"
     ]
    }
   ],
   "source": [
    "models = [m for m in palm.list_models() if 'generateText' in m.supported_generation_methods]\n",
    "model = models[0].name\n",
    "print(model)"
   ]
  },
  {
   "cell_type": "code",
   "execution_count": 18,
   "id": "78eefb30",
   "metadata": {},
   "outputs": [],
   "source": [
    "#CNN\n",
    "import numpy as np\n",
    "import cv2\n",
    "import tensorflow as tf\n",
    "from tensorflow.keras.models import load_model\n",
    "from tensorflow.keras.applications.vgg16 import preprocess_input\n",
    "\n",
    "\n",
    "# Define your custom F1 metric function\n",
    "def F1(y_true, y_pred):\n",
    "    true_positives = tf.keras.backend.sum(tf.keras.backend.round(tf.keras.backend.clip(y_true * y_pred, 0, 1)))\n",
    "    possible_positives = tf.keras.backend.sum(tf.keras.backend.round(tf.keras.backend.clip(y_true, 0, 1)))\n",
    "    predicted_positives = tf.keras.backend.sum(tf.keras.backend.round(tf.keras.backend.clip(y_pred, 0, 1)))\n",
    "    precision = true_positives / (predicted_positives + tf.keras.backend.epsilon())\n",
    "    recall = true_positives / (possible_positives + tf.keras.backend.epsilon())\n",
    "    f1_val = 2 * (precision * recall) / (precision + recall + tf.keras.backend.epsilon())\n",
    "    return f1_val\n",
    "\n",
    "# Load your lung cancer prediction model along with custom metrics\n",
    "Lung_CNN = load_model(\"Lung_CNN1.h5\", custom_objects={'F1': F1})\n",
    "\n",
    "def predict_lung_cancer(image_path):\n",
    "    # Load and preprocess the image\n",
    "    image = cv2.imread(image_path)\n",
    "    image = cv2.resize(image, (224, 224))\n",
    "    image = preprocess_input(image)\n",
    "\n",
    "    # Make a prediction\n",
    "    vgg16Pred = Lung_CNN.predict(image[None, ...])[0]\n",
    "\n",
    "    return vgg16Pred\n",
    "\n",
    "# Replace 'IMAGE_PATH' with the actual path to the CT scan image\n",
    "image_path = 'lung-cancer.webp'"
   ]
  },
  {
   "cell_type": "code",
   "execution_count": 19,
   "id": "39bdcb1f",
   "metadata": {},
   "outputs": [
    {
     "name": "stdout",
     "output_type": "stream",
     "text": [
      "1/1 [==============================] - 0s 399ms/step\n",
      "**CT Scan Report**\n",
      "\n",
      "**Patient ID:** 123456789\n",
      "\n",
      "**Date:** 2023-03-08\n",
      "\n",
      "**Clinical History:** The patient is a 55-year-old male with a history of smoking. He presents with a cough and shortness of breath.\n",
      "\n",
      "**Imaging Findings:** The CT scan of the chest shows a large mass in the right lung. The mass is heterogeneously enhancing and measures 6 cm in diameter. There is surrounding ground-glass opacification and mediastinal lymphadenopathy.\n",
      "\n",
      "**Diagnosis:** Lung cancer\n",
      "\n",
      "**Recommendations:** The patient is advised to see a pulmonologist for further evaluation and treatment.\n",
      "\n",
      "**Questions for the Patient:**\n",
      "\n",
      "* Do you have any symptoms of lung cancer, such as a cough, shortness of breath, chest pain, or weight loss?\n",
      "* Have you ever smoked cigarettes or other tobacco products?\n",
      "* Do you have a family history of lung cancer?\n",
      "\n",
      "**Precautions and Suggestions:**\n",
      "\n",
      "* In the meantime, the patient should avoid smoking and other tobacco products.\n",
      "* The patient should drink plenty of fluids and eat a healthy diet.\n",
      "* The patient should get regular exercise.\n",
      "* The patient should see a doctor if they have any symptoms of lung cancer.\n"
     ]
    }
   ],
   "source": [
    "# Make a lung cancer prediction\n",
    "prediction_result = predict_lung_cancer(image_path)\n",
    "\n",
    "# Generate the medical report using Palm based on the prediction result\n",
    "prompt = f\"\"\"\n",
    "You are an expert radiologist.\n",
    "\n",
    "Generate a completely anonymized report with no medical details or clinical history  of the patient just based on the prediction for lung cancer:\n",
    "\n",
    "Based on the CT scan image, the patient is {\"Cancerous\" if prediction_result < 0.4 else \"Non-cancerous\"}. Please ask some questions if the patient is having any symptoms of lung cancer.\n",
    "\n",
    "Please give suggestions and ask them questions about symptoms to cross-check, and if yes, ask them to consult a doctor. Also, give them precautions and suggestions to follow in the meanwhile.\n",
    "\n",
    "The report should be no more than 400 words and must not include any personal information of the patient, such as name, age, sex, and clinical history.\n",
    "\"\"\"\n",
    "\n",
    "completion = palm.generate_text(\n",
    "    model=model,\n",
    "    prompt=prompt,\n",
    "    temperature=0,\n",
    "    max_output_tokens=400,\n",
    ")\n",
    "\n",
    "print(completion.result)\n"
   ]
  },
  {
   "cell_type": "markdown",
   "id": "0a5d0caf",
   "metadata": {},
   "source": [
    "# VIT"
   ]
  },
  {
   "cell_type": "code",
   "execution_count": 1,
   "id": "ab66d272",
   "metadata": {},
   "outputs": [],
   "source": [
    "import pprint\n",
    "import google.generativeai as palm"
   ]
  },
  {
   "cell_type": "code",
   "execution_count": 2,
   "id": "6ce57c58",
   "metadata": {},
   "outputs": [],
   "source": [
    "palm.configure(api_key='replace with you api key')"
   ]
  },
  {
   "cell_type": "code",
   "execution_count": 3,
   "id": "316d00fc",
   "metadata": {},
   "outputs": [],
   "source": [
    "from transformers import pipeline\n",
    "\n",
    "# Load the image classification pipeline\n",
    "image_classification_pipeline = pipeline(\"image-classification\", model=\"jayavardhan31/VIT\")"
   ]
  },
  {
   "cell_type": "code",
   "execution_count": 4,
   "id": "ae09f6c4",
   "metadata": {},
   "outputs": [],
   "source": [
    "import google.generativeai as palm\n",
    "\n",
    "# Get the Palm model for text generation\n",
    "models = [m for m in palm.list_models() if 'generateText' in m.supported_generation_methods]\n",
    "palm_model = models[0].name"
   ]
  },
  {
   "cell_type": "code",
   "execution_count": 5,
   "id": "6fffd7dd",
   "metadata": {},
   "outputs": [],
   "source": [
    "def predict_image(image_path):\n",
    "    # Use the image classification pipeline to predict\n",
    "    result = image_classification_pipeline(image_path)\n",
    "\n",
    "    # Extract the predicted label\n",
    "    label = result[0]['label']\n",
    "\n",
    "    return label\n"
   ]
  },
  {
   "cell_type": "code",
   "execution_count": 6,
   "id": "07d43ee8",
   "metadata": {},
   "outputs": [],
   "source": [
    "def generate_medical_report(predicted_label):\n",
    "    # Generate a medical report using Palm based on the prediction result\n",
    "    prompt = f\"\"\"\n",
    "    You are an expert radiologist.\n",
    "\n",
    "    Generate a completely anonymized report with no medical details or clinical history of the patient just based on the prediction for lung cancer:\n",
    "\n",
    "    Based on the CT scan image, the patient is {predicted_label}. Please ask some questions if the patient is having any symptoms of lung cancer.\n",
    "\n",
    "    Please give suggestions and ask them questions about symptoms to cross-check, and if yes, ask them to consult a doctor. Also, give them precautions and suggestions to follow in the meanwhile.\n",
    "\n",
    "    The report should be no more than 400 words and must not include any personal information of the patient, such as name, age, sex, and clinical history.\n",
    "    \"\"\"\n",
    "\n",
    "    completion = palm.generate_text(\n",
    "        model=palm_model,\n",
    "        prompt=prompt,\n",
    "        temperature=0.4,\n",
    "        max_output_tokens=400,\n",
    "    )\n",
    "\n",
    "    return completion.result"
   ]
  },
  {
   "cell_type": "code",
   "execution_count": 13,
   "id": "dc14e089",
   "metadata": {},
   "outputs": [
    {
     "name": "stdout",
     "output_type": "stream",
     "text": [
      "**Report**\n",
      "\n",
      "**Patient:** 000-00-0000\n",
      "\n",
      "**Date:** 2023-03-08\n",
      "\n",
      "**Diagnosis:** Lung cancer\n",
      "\n",
      "**Imaging:** CT scan of the chest\n",
      "\n",
      "**Findings:**\n",
      "\n",
      "There is a 2.0 cm spiculated mass in the left upper lobe of the lung. The mass is associated with surrounding ground-glass opacities and lymphadenopathy.\n",
      "\n",
      "**Discussion:**\n",
      "\n",
      "The findings are consistent with lung cancer. The patient should be referred to a pulmonologist for further evaluation and treatment.\n",
      "\n",
      "**Questions for the patient:**\n",
      "\n",
      "* Do you have any symptoms of lung cancer, such as coughing, shortness of breath, chest pain, or weight loss?\n",
      "* Have you been exposed to any risk factors for lung cancer, such as smoking, secondhand smoke, or asbestos?\n",
      "\n",
      "**Precautions and suggestions:**\n",
      "\n",
      "* The patient should stop smoking immediately.\n",
      "* The patient should avoid secondhand smoke.\n",
      "* The patient should eat a healthy diet and exercise regularly.\n",
      "* The patient should get regular checkups with their doctor.\n",
      "\n",
      "**Follow-up:**\n",
      "\n",
      "The patient should follow up with their pulmonologist for further evaluation and treatment.\n"
     ]
    }
   ],
   "source": [
    "# Example usage\n",
    "image_path = \"adenocarcinoma290.png\"\n",
    "predicted_label = predict_image(image_path)\n",
    "medical_report = generate_medical_report(predicted_label)\n",
    "\n",
    "print(medical_report)"
   ]
  }
 ],
 "metadata": {
  "kernelspec": {
   "display_name": "Python 3 (ipykernel)",
   "language": "python",
   "name": "python3"
  },
  "language_info": {
   "codemirror_mode": {
    "name": "ipython",
    "version": 3
   },
   "file_extension": ".py",
   "mimetype": "text/x-python",
   "name": "python",
   "nbconvert_exporter": "python",
   "pygments_lexer": "ipython3",
   "version": "3.11.3"
  }
 },
 "nbformat": 4,
 "nbformat_minor": 5
}
